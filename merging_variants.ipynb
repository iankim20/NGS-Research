{
  "nbformat": 4,
  "nbformat_minor": 0,
  "metadata": {
    "colab": {
      "name": "merging variants.ipynb",
      "provenance": [],
      "collapsed_sections": [],
      "authorship_tag": "ABX9TyN73zGiO6+lgEJnZXfMpd0q",
      "include_colab_link": true
    },
    "kernelspec": {
      "name": "python3",
      "display_name": "Python 3"
    }
  },
  "cells": [
    {
      "cell_type": "markdown",
      "metadata": {
        "id": "view-in-github",
        "colab_type": "text"
      },
      "source": [
        "<a href=\"https://colab.research.google.com/github/iankim20/NGS-Research/blob/main/merging_variants.ipynb\" target=\"_parent\"><img src=\"https://colab.research.google.com/assets/colab-badge.svg\" alt=\"Open In Colab\"/></a>"
      ]
    },
    {
      "cell_type": "code",
      "metadata": {
        "id": "4oSFcp7DDs6-",
        "colab": {
          "base_uri": "https://localhost:8080/"
        },
        "outputId": "2e7c091a-d114-4a0e-df6d-13a6b1c3b53b"
      },
      "source": [
        "from google.colab import drive\n",
        "drive.mount('/content/drive/')"
      ],
      "execution_count": null,
      "outputs": [
        {
          "output_type": "stream",
          "text": [
            "Mounted at /content/drive/\n"
          ],
          "name": "stdout"
        }
      ]
    },
    {
      "cell_type": "code",
      "metadata": {
        "id": "R8v9rZb-DxQG",
        "colab": {
          "base_uri": "https://localhost:8080/"
        },
        "outputId": "1ac1e3dd-e4ff-46b2-fb31-d3495fe12fbe"
      },
      "source": [
        "%cd \"/content/drive/My Drive/vcf data\""
      ],
      "execution_count": null,
      "outputs": [
        {
          "output_type": "stream",
          "text": [
            "/content/drive/My Drive/vcf data\n"
          ],
          "name": "stdout"
        }
      ]
    },
    {
      "cell_type": "code",
      "metadata": {
        "id": "DdckFWz5cEAm",
        "colab": {
          "base_uri": "https://localhost:8080/"
        },
        "outputId": "1e83f0de-d859-4d34-bb1a-ca7c9c438a58"
      },
      "source": [
        "pip install scikit-allel"
      ],
      "execution_count": null,
      "outputs": [
        {
          "output_type": "stream",
          "text": [
            "Collecting scikit-allel\n",
            "\u001b[?25l  Downloading https://files.pythonhosted.org/packages/53/7a/88e1eaab6e120f9aab5d316d5204a99a33456f902de504e0d446a84f1891/scikit-allel-1.3.2.tar.gz (10.8MB)\n",
            "\u001b[K     |████████████████████████████████| 10.8MB 4.1MB/s \n",
            "\u001b[?25hRequirement already satisfied: cython in /usr/local/lib/python3.6/dist-packages (from scikit-allel) (0.29.21)\n",
            "Requirement already satisfied: numpy in /usr/local/lib/python3.6/dist-packages (from scikit-allel) (1.18.5)\n",
            "Requirement already satisfied: dask[array] in /usr/local/lib/python3.6/dist-packages (from scikit-allel) (2.12.0)\n",
            "Requirement already satisfied: toolz>=0.7.3; extra == \"array\" in /usr/local/lib/python3.6/dist-packages (from dask[array]->scikit-allel) (0.11.1)\n",
            "Building wheels for collected packages: scikit-allel\n",
            "  Building wheel for scikit-allel (setup.py) ... \u001b[?25l\u001b[?25hdone\n",
            "  Created wheel for scikit-allel: filename=scikit_allel-1.3.2-cp36-cp36m-linux_x86_64.whl size=4708227 sha256=6e5f1f03dff62c915b8177c07db21f94e0ef84fbef239dc0b6d68cf1a439bd3b\n",
            "  Stored in directory: /root/.cache/pip/wheels/f7/25/d0/32ddaaccfe4b1c20e701fad83533a13ff0c4b9809baa99d4bf\n",
            "Successfully built scikit-allel\n",
            "Installing collected packages: scikit-allel\n",
            "Successfully installed scikit-allel-1.3.2\n"
          ],
          "name": "stdout"
        }
      ]
    },
    {
      "cell_type": "code",
      "metadata": {
        "id": "y0OlOZ0qHlXr",
        "colab": {
          "base_uri": "https://localhost:8080/"
        },
        "outputId": "3a757cd6-fc66-4582-b148-5ff23b6a9512"
      },
      "source": [
        "import pandas as pd\n",
        "import numpy as np\n",
        "import os\n",
        " \n",
        "# import scikit-allel\n",
        "import allel\n",
        "# check which version is installed\n",
        "print(allel.__version__)"
      ],
      "execution_count": null,
      "outputs": [
        {
          "output_type": "stream",
          "text": [
            "1.3.2\n"
          ],
          "name": "stdout"
        }
      ]
    },
    {
      "cell_type": "code",
      "metadata": {
        "id": "zOoZQpOaHlce"
      },
      "source": [
        "chr_list = ['chr'+str(x) for x in range(1,23)] + ['chrX', 'chrY']\n",
        "vcf_files=[]\n",
        "vcf_files = [f for f in os.listdir('./scRNA_91nodes/') if f.endswith('.vcf')]\n"
      ],
      "execution_count": null,
      "outputs": []
    },
    {
      "cell_type": "code",
      "metadata": {
        "id": "LhwSxm8liKt1",
        "colab": {
          "base_uri": "https://localhost:8080/",
          "height": 35
        },
        "outputId": "6804c7f0-c3b5-461b-f36a-ccce78694fdb"
      },
      "source": [
        "file0 = vcf_files[1]"
      ],
      "execution_count": null,
      "outputs": [
        {
          "output_type": "execute_result",
          "data": {
            "application/vnd.google.colaboratory.intrinsic+json": {
              "type": "string"
            },
            "text/plain": [
              "'SRR5957353_final.vcf'"
            ]
          },
          "metadata": {
            "tags": []
          },
          "execution_count": 12
        }
      ]
    },
    {
      "cell_type": "code",
      "metadata": {
        "id": "fPqfWZZYiOGo"
      },
      "source": [
        "rna0 = allel.read_vcf(file0)\n",
        "\n",
        "columns = ['CHROM', 'POS','ID','REF','ALT','QUAL','DP', 'variant']\n",
        "rna0_df = pd.DataFrame(columns=columns)"
      ],
      "execution_count": null,
      "outputs": []
    },
    {
      "cell_type": "code",
      "metadata": {
        "id": "F9OyhCXEmNow"
      },
      "source": [
        "genotypes = rna0['calldata/GT']\n",
        "\n",
        "merge_gt = []\n",
        "for i in range(len(genotypes)):\n",
        "  gt = genotypes[i]\n",
        "  if np.array_equal(gt[0],[-1,-1]) and np.array_equal(gt[1],[-1,-1]):\n",
        "    merge_gt.append([-1,-1])\n",
        "  elif not(np.array_equal(gt[0],[-1,-1])) and np.array_equal(gt[1],[-1,-1]):\n",
        "    merge_gt.append(gt[0])\n",
        "  elif np.array_equal(gt[0],[-1,-1]) and not(np.array_equal(gt[1],[-1,-1])):\n",
        "    merge_gt.append(gt[1]) \n",
        "  elif np.array_equal(gt[0],[-1,-1]) and np.array_equal(gt[1],[-1,-1]):\n",
        "    merge_gt.append([NaN, NaN])\n",
        "\n",
        "merge_gt = np.asarray(merge_gt)"
      ],
      "execution_count": null,
      "outputs": []
    },
    {
      "cell_type": "code",
      "metadata": {
        "id": "B64RKLP8mNmC",
        "colab": {
          "base_uri": "https://localhost:8080/",
          "height": 402
        },
        "outputId": "51731a11-d0fe-4473-d1b4-dce6b2c8b4cf"
      },
      "source": [
        "rna0_df['CHROM'] = rna0['variants/CHROM']\n",
        "# rna0_df['FILTER'] = rna0['variants/FILTER_PASS']\n",
        "rna0_df['POS'] = rna0['variants/POS']\n",
        "rna0_df['ID'] = rna0['variants/ID']\n",
        "rna0_df['REF'] = rna0['variants/REF']\n",
        "rna0_df['ALT'] = rna0['variants/ALT'][:,0]\n",
        "rna0_df['QUAL'] = rna0['variants/QUAL']\n",
        "rna0_df['DP'] = allel.read_vcf(file0, fields=['DP'])['variants/DP']\n",
        "rna0_df['variant'] = merge_gt\n"
      ],
      "execution_count": null,
      "outputs": [
        {
          "output_type": "execute_result",
          "data": {
            "text/html": [
              "<div>\n",
              "<style scoped>\n",
              "    .dataframe tbody tr th:only-of-type {\n",
              "        vertical-align: middle;\n",
              "    }\n",
              "\n",
              "    .dataframe tbody tr th {\n",
              "        vertical-align: top;\n",
              "    }\n",
              "\n",
              "    .dataframe thead th {\n",
              "        text-align: right;\n",
              "    }\n",
              "</style>\n",
              "<table border=\"1\" class=\"dataframe\">\n",
              "  <thead>\n",
              "    <tr style=\"text-align: right;\">\n",
              "      <th></th>\n",
              "      <th>CHROM</th>\n",
              "      <th>POS</th>\n",
              "      <th>ID</th>\n",
              "      <th>REF</th>\n",
              "      <th>ALT</th>\n",
              "      <th>QUAL</th>\n",
              "      <th>DP</th>\n",
              "      <th>variant</th>\n",
              "    </tr>\n",
              "  </thead>\n",
              "  <tbody>\n",
              "    <tr>\n",
              "      <th>0</th>\n",
              "      <td>chr1</td>\n",
              "      <td>19608399</td>\n",
              "      <td>.</td>\n",
              "      <td>C</td>\n",
              "      <td>A</td>\n",
              "      <td>65.279999</td>\n",
              "      <td>6</td>\n",
              "      <td>[-1, -1]</td>\n",
              "    </tr>\n",
              "    <tr>\n",
              "      <th>1</th>\n",
              "      <td>chr1</td>\n",
              "      <td>19608436</td>\n",
              "      <td>.</td>\n",
              "      <td>T</td>\n",
              "      <td>C</td>\n",
              "      <td>63.279999</td>\n",
              "      <td>6</td>\n",
              "      <td>[-1, -1]</td>\n",
              "    </tr>\n",
              "    <tr>\n",
              "      <th>2</th>\n",
              "      <td>chr1</td>\n",
              "      <td>27649605</td>\n",
              "      <td>.</td>\n",
              "      <td>G</td>\n",
              "      <td>A</td>\n",
              "      <td>152.029999</td>\n",
              "      <td>4</td>\n",
              "      <td>[-1, -1]</td>\n",
              "    </tr>\n",
              "    <tr>\n",
              "      <th>3</th>\n",
              "      <td>chr1</td>\n",
              "      <td>27649611</td>\n",
              "      <td>.</td>\n",
              "      <td>C</td>\n",
              "      <td>T</td>\n",
              "      <td>152.029999</td>\n",
              "      <td>4</td>\n",
              "      <td>[-1, -1]</td>\n",
              "    </tr>\n",
              "    <tr>\n",
              "      <th>4</th>\n",
              "      <td>chr1</td>\n",
              "      <td>36090653</td>\n",
              "      <td>.</td>\n",
              "      <td>G</td>\n",
              "      <td>A</td>\n",
              "      <td>21.799999</td>\n",
              "      <td>7</td>\n",
              "      <td>[0, 1]</td>\n",
              "    </tr>\n",
              "    <tr>\n",
              "      <th>...</th>\n",
              "      <td>...</td>\n",
              "      <td>...</td>\n",
              "      <td>...</td>\n",
              "      <td>...</td>\n",
              "      <td>...</td>\n",
              "      <td>...</td>\n",
              "      <td>...</td>\n",
              "      <td>...</td>\n",
              "    </tr>\n",
              "    <tr>\n",
              "      <th>269</th>\n",
              "      <td>chr11</td>\n",
              "      <td>47252068</td>\n",
              "      <td>.</td>\n",
              "      <td>G</td>\n",
              "      <td>A</td>\n",
              "      <td>18.590000</td>\n",
              "      <td>2</td>\n",
              "      <td>[-1, -1]</td>\n",
              "    </tr>\n",
              "    <tr>\n",
              "      <th>270</th>\n",
              "      <td>chr11</td>\n",
              "      <td>59774294</td>\n",
              "      <td>.</td>\n",
              "      <td>T</td>\n",
              "      <td>C</td>\n",
              "      <td>32.740002</td>\n",
              "      <td>2</td>\n",
              "      <td>[-1, -1]</td>\n",
              "    </tr>\n",
              "    <tr>\n",
              "      <th>271</th>\n",
              "      <td>chr11</td>\n",
              "      <td>62676637</td>\n",
              "      <td>.</td>\n",
              "      <td>G</td>\n",
              "      <td>GTCCCAGC</td>\n",
              "      <td>98.250000</td>\n",
              "      <td>7</td>\n",
              "      <td>[-1, -1]</td>\n",
              "    </tr>\n",
              "    <tr>\n",
              "      <th>272</th>\n",
              "      <td>chr11</td>\n",
              "      <td>62676643</td>\n",
              "      <td>.</td>\n",
              "      <td>A</td>\n",
              "      <td>C</td>\n",
              "      <td>107.279999</td>\n",
              "      <td>6</td>\n",
              "      <td>[-1, -1]</td>\n",
              "    </tr>\n",
              "    <tr>\n",
              "      <th>273</th>\n",
              "      <td>chr11</td>\n",
              "      <td>65178838</td>\n",
              "      <td>.</td>\n",
              "      <td>T</td>\n",
              "      <td>C</td>\n",
              "      <td>64.279999</td>\n",
              "      <td>3</td>\n",
              "      <td>[-1, -1]</td>\n",
              "    </tr>\n",
              "  </tbody>\n",
              "</table>\n",
              "<p>274 rows × 8 columns</p>\n",
              "</div>"
            ],
            "text/plain": [
              "     CHROM       POS ID REF       ALT        QUAL  DP   variant\n",
              "0     chr1  19608399  .   C         A   65.279999   6  [-1, -1]\n",
              "1     chr1  19608436  .   T         C   63.279999   6  [-1, -1]\n",
              "2     chr1  27649605  .   G         A  152.029999   4  [-1, -1]\n",
              "3     chr1  27649611  .   C         T  152.029999   4  [-1, -1]\n",
              "4     chr1  36090653  .   G         A   21.799999   7    [0, 1]\n",
              "..     ...       ... ..  ..       ...         ...  ..       ...\n",
              "269  chr11  47252068  .   G         A   18.590000   2  [-1, -1]\n",
              "270  chr11  59774294  .   T         C   32.740002   2  [-1, -1]\n",
              "271  chr11  62676637  .   G  GTCCCAGC   98.250000   7  [-1, -1]\n",
              "272  chr11  62676643  .   A         C  107.279999   6  [-1, -1]\n",
              "273  chr11  65178838  .   T         C   64.279999   3  [-1, -1]\n",
              "\n",
              "[274 rows x 8 columns]"
            ]
          },
          "metadata": {
            "tags": []
          },
          "execution_count": 141
        }
      ]
    }
  ]
}